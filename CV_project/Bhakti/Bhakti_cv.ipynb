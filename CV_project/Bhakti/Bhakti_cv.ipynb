{
 "cells": [
  {
   "cell_type": "code",
   "execution_count": 1,
   "id": "1fab7b9d",
   "metadata": {},
   "outputs": [
    {
     "name": "stdout",
     "output_type": "stream",
     "text": [
      "\n",
      "image 1/1 C:\\Users\\User\\Desktop\\images.jpg: 640x640 1 bullseye, 1073.9ms\n",
      "Speed: 49.1ms preprocess, 1073.9ms inference, 56.4ms postprocess per image at shape (1, 3, 640, 640)\n"
     ]
    },
    {
     "data": {
      "text/plain": [
       "True"
      ]
     },
     "execution_count": 1,
     "metadata": {},
     "output_type": "execute_result"
    }
   ],
   "source": [
    "from ultralytics import YOLO\n",
    "import cv2\n",
    "\n",
    "# Load the model\n",
    "model = YOLO(r\"C:\\Users\\User\\Downloads\\model.pt\")  # Replace with your model path\n",
    "\n",
    "# Load the image\n",
    "image_path = r\"C:\\Users\\User\\Desktop\\images.jpg\"  # Replace with your image path\n",
    "results = model(image_path)\n",
    "\n",
    "# Get the annotated image\n",
    "annotated_image = results[0].plot()\n",
    "\n",
    "# Show the image\n",
    "cv2.imshow(\"YOLOv8 Detection\", annotated_image)\n",
    "cv2.waitKey(0)\n",
    "cv2.destroyAllWindows()\n",
    "\n",
    "# Save the result\n",
    "cv2.imwrite(\"output121.jpg\", annotated_image)\n"
   ]
  }
 ],
 "metadata": {
  "kernelspec": {
   "display_name": "myenv",
   "language": "python",
   "name": "python3"
  },
  "language_info": {
   "codemirror_mode": {
    "name": "ipython",
    "version": 3
   },
   "file_extension": ".py",
   "mimetype": "text/x-python",
   "name": "python",
   "nbconvert_exporter": "python",
   "pygments_lexer": "ipython3",
   "version": "3.10.11"
  }
 },
 "nbformat": 4,
 "nbformat_minor": 5
}
