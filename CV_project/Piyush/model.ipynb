{
 "cells": [
  {
   "cell_type": "code",
   "execution_count": 1,
   "id": "1b3a538d",
   "metadata": {},
   "outputs": [
    {
     "name": "stdout",
     "output_type": "stream",
     "text": [
      "c:\\Users\\Piyush Prajapati\\coding\\Rakshak\\Conda\\Assignments_2025\\Assignments_2025\\ML_Assignments\\Piyush\\Bullseye_detection\n"
     ]
    }
   ],
   "source": [
    "import os\n",
    "print(os.getcwd())\n"
   ]
  },
  {
   "cell_type": "code",
   "execution_count": null,
   "id": "14bf6e35",
   "metadata": {},
   "outputs": [
    {
     "name": "stdout",
     "output_type": "stream",
     "text": [
      "Ultralytics 8.3.106  Python-3.12.7 torch-2.6.0+cpu CPU (12th Gen Intel Core(TM) i5-12450H)\n",
      "\u001b[34m\u001b[1mengine\\trainer: \u001b[0mtask=detect, mode=train, model=runs\\detect\\train\\weights\\best.pt, data=config.yaml, epochs=2, time=None, patience=100, batch=64, imgsz=640, save=True, save_period=-1, cache=False, device=None, workers=8, project=None, name=train8, exist_ok=False, pretrained=True, optimizer=auto, verbose=True, seed=0, deterministic=True, single_cls=False, rect=False, cos_lr=False, close_mosaic=10, resume=False, amp=True, fraction=1.0, profile=False, freeze=None, multi_scale=False, overlap_mask=True, mask_ratio=4, dropout=0.0, val=True, split=val, save_json=False, conf=None, iou=0.7, max_det=300, half=False, dnn=False, plots=True, source=None, vid_stride=1, stream_buffer=False, visualize=False, augment=False, agnostic_nms=False, classes=None, retina_masks=False, embed=None, show=False, save_frames=False, save_txt=False, save_conf=False, save_crop=False, show_labels=True, show_conf=True, show_boxes=True, line_width=None, format=torchscript, keras=False, optimize=False, int8=False, dynamic=False, simplify=True, opset=None, workspace=None, nms=False, lr0=0.01, lrf=0.01, momentum=0.937, weight_decay=0.0005, warmup_epochs=3.0, warmup_momentum=0.8, warmup_bias_lr=0.1, box=7.5, cls=0.5, dfl=1.5, pose=12.0, kobj=1.0, nbs=64, hsv_h=0.015, hsv_s=0.7, hsv_v=0.4, degrees=0.0, translate=0.1, scale=0.5, shear=0.0, perspective=0.0, flipud=0.0, fliplr=0.5, bgr=0.0, mosaic=1.0, mixup=0.0, copy_paste=0.0, copy_paste_mode=flip, auto_augment=randaugment, erasing=0.4, crop_fraction=1.0, cfg=None, tracker=botsort.yaml, save_dir=runs\\detect\\train8\n",
      "\n",
      "                   from  n    params  module                                       arguments                     \n",
      "  0                  -1  1       464  ultralytics.nn.modules.conv.Conv             [3, 16, 3, 2]                 \n",
      "  1                  -1  1      4672  ultralytics.nn.modules.conv.Conv             [16, 32, 3, 2]                \n",
      "  2                  -1  1      7360  ultralytics.nn.modules.block.C2f             [32, 32, 1, True]             \n",
      "  3                  -1  1     18560  ultralytics.nn.modules.conv.Conv             [32, 64, 3, 2]                \n",
      "  4                  -1  2     49664  ultralytics.nn.modules.block.C2f             [64, 64, 2, True]             \n",
      "  5                  -1  1     73984  ultralytics.nn.modules.conv.Conv             [64, 128, 3, 2]               \n",
      "  6                  -1  2    197632  ultralytics.nn.modules.block.C2f             [128, 128, 2, True]           \n",
      "  7                  -1  1    295424  ultralytics.nn.modules.conv.Conv             [128, 256, 3, 2]              \n",
      "  8                  -1  1    460288  ultralytics.nn.modules.block.C2f             [256, 256, 1, True]           \n",
      "  9                  -1  1    164608  ultralytics.nn.modules.block.SPPF            [256, 256, 5]                 \n",
      " 10                  -1  1         0  torch.nn.modules.upsampling.Upsample         [None, 2, 'nearest']          \n",
      " 11             [-1, 6]  1         0  ultralytics.nn.modules.conv.Concat           [1]                           \n",
      " 12                  -1  1    148224  ultralytics.nn.modules.block.C2f             [384, 128, 1]                 \n",
      " 13                  -1  1         0  torch.nn.modules.upsampling.Upsample         [None, 2, 'nearest']          \n",
      " 14             [-1, 4]  1         0  ultralytics.nn.modules.conv.Concat           [1]                           \n",
      " 15                  -1  1     37248  ultralytics.nn.modules.block.C2f             [192, 64, 1]                  \n",
      " 16                  -1  1     36992  ultralytics.nn.modules.conv.Conv             [64, 64, 3, 2]                \n",
      " 17            [-1, 12]  1         0  ultralytics.nn.modules.conv.Concat           [1]                           \n",
      " 18                  -1  1    123648  ultralytics.nn.modules.block.C2f             [192, 128, 1]                 \n",
      " 19                  -1  1    147712  ultralytics.nn.modules.conv.Conv             [128, 128, 3, 2]              \n",
      " 20             [-1, 9]  1         0  ultralytics.nn.modules.conv.Concat           [1]                           \n",
      " 21                  -1  1    493056  ultralytics.nn.modules.block.C2f             [384, 256, 1]                 \n",
      " 22        [15, 18, 21]  1    751507  ultralytics.nn.modules.head.Detect           [1, [64, 128, 256]]           \n",
      "YOLOv8n summary: 129 layers, 3,011,043 parameters, 3,011,027 gradients, 8.2 GFLOPs\n",
      "\n",
      "Transferred 355/355 items from pretrained weights\n",
      "\u001b[34m\u001b[1mTensorBoard: \u001b[0mStart with 'tensorboard --logdir runs\\detect\\train8', view at http://localhost:6006/\n",
      "Freezing layer 'model.22.dfl.conv.weight'\n"
     ]
    },
    {
     "name": "stderr",
     "output_type": "stream",
     "text": [
      "\u001b[34m\u001b[1mtrain: \u001b[0mScanning C:\\Users\\Piyush Prajapati\\coding\\Rakshak\\Conda\\Assignments_2025\\Assignments_2025\\ML_Assignments\\Piyush\\Bullseye_detection\\labels\\train.cache... 484 images, 1 backgrounds, 9 corrupt: 100%|██████████| 493/493 [00:00<?, ?it/s]"
     ]
    },
    {
     "name": "stdout",
     "output_type": "stream",
     "text": [
      "\u001b[34m\u001b[1mtrain: \u001b[0mWARNING  C:\\Users\\Piyush Prajapati\\coding\\Rakshak\\Conda\\Assignments_2025\\Assignments_2025\\ML_Assignments\\Piyush\\Bullseye_detection\\images\\train\\close-up-of-a-red-and-white-bullseye-target-on-a-transparent-background-ideal-for-concepts-of-accuracy-focus-and-goal-setting-png_webp.rf.3378e41c7a990e44d090443e04c33af5.jpg: ignoring corrupt image/label: [Errno 2] No such file or directory: 'C:\\\\Users\\\\Piyush Prajapati\\\\coding\\\\Rakshak\\\\Conda\\\\Assignments_2025\\\\Assignments_2025\\\\ML_Assignments\\\\Piyush\\\\Bullseye_detection\\\\images\\\\train\\\\close-up-of-a-red-and-white-bullseye-target-on-a-transparent-background-ideal-for-concepts-of-accuracy-focus-and-goal-setting-png_webp.rf.3378e41c7a990e44d090443e04c33af5.jpg'\n",
      "\u001b[34m\u001b[1mtrain: \u001b[0mWARNING  C:\\Users\\Piyush Prajapati\\coding\\Rakshak\\Conda\\Assignments_2025\\Assignments_2025\\ML_Assignments\\Piyush\\Bullseye_detection\\images\\train\\close-up-of-a-red-and-white-bullseye-target-on-a-transparent-background-ideal-for-concepts-of-accuracy-focus-and-goal-setting-png_webp.rf.cffa766f5839465891ea4333b780c2cd.jpg: ignoring corrupt image/label: [Errno 2] No such file or directory: 'C:\\\\Users\\\\Piyush Prajapati\\\\coding\\\\Rakshak\\\\Conda\\\\Assignments_2025\\\\Assignments_2025\\\\ML_Assignments\\\\Piyush\\\\Bullseye_detection\\\\images\\\\train\\\\close-up-of-a-red-and-white-bullseye-target-on-a-transparent-background-ideal-for-concepts-of-accuracy-focus-and-goal-setting-png_webp.rf.cffa766f5839465891ea4333b780c2cd.jpg'\n",
      "\u001b[34m\u001b[1mtrain: \u001b[0mWARNING  C:\\Users\\Piyush Prajapati\\coding\\Rakshak\\Conda\\Assignments_2025\\Assignments_2025\\ML_Assignments\\Piyush\\Bullseye_detection\\images\\train\\close-up-of-a-red-and-white-bullseye-target-on-a-transparent-background-ideal-for-concepts-of-accuracy-focus-and-goal-setting-png_webp.rf.db35395f4661533e886a081ffd185d20.jpg: ignoring corrupt image/label: [Errno 2] No such file or directory: 'C:\\\\Users\\\\Piyush Prajapati\\\\coding\\\\Rakshak\\\\Conda\\\\Assignments_2025\\\\Assignments_2025\\\\ML_Assignments\\\\Piyush\\\\Bullseye_detection\\\\images\\\\train\\\\close-up-of-a-red-and-white-bullseye-target-on-a-transparent-background-ideal-for-concepts-of-accuracy-focus-and-goal-setting-png_webp.rf.db35395f4661533e886a081ffd185d20.jpg'\n",
      "\u001b[34m\u001b[1mtrain: \u001b[0mWARNING  C:\\Users\\Piyush Prajapati\\coding\\Rakshak\\Conda\\Assignments_2025\\Assignments_2025\\ML_Assignments\\Piyush\\Bullseye_detection\\images\\train\\shooting-target-icon-set-white-background-vector-shooting-target-icon-set-white-background-vector-illustration-121417824_webp.rf.0baf8e856f053816e682c8cc093ae2a3.jpg: ignoring corrupt image/label: [Errno 2] No such file or directory: 'C:\\\\Users\\\\Piyush Prajapati\\\\coding\\\\Rakshak\\\\Conda\\\\Assignments_2025\\\\Assignments_2025\\\\ML_Assignments\\\\Piyush\\\\Bullseye_detection\\\\images\\\\train\\\\shooting-target-icon-set-white-background-vector-shooting-target-icon-set-white-background-vector-illustration-121417824_webp.rf.0baf8e856f053816e682c8cc093ae2a3.jpg'\n",
      "\u001b[34m\u001b[1mtrain: \u001b[0mWARNING  C:\\Users\\Piyush Prajapati\\coding\\Rakshak\\Conda\\Assignments_2025\\Assignments_2025\\ML_Assignments\\Piyush\\Bullseye_detection\\images\\train\\shooting-target-icon-set-white-background-vector-shooting-target-icon-set-white-background-vector-illustration-121417824_webp.rf.714f248ede9d97a270cdb84460f496e6.jpg: ignoring corrupt image/label: [Errno 2] No such file or directory: 'C:\\\\Users\\\\Piyush Prajapati\\\\coding\\\\Rakshak\\\\Conda\\\\Assignments_2025\\\\Assignments_2025\\\\ML_Assignments\\\\Piyush\\\\Bullseye_detection\\\\images\\\\train\\\\shooting-target-icon-set-white-background-vector-shooting-target-icon-set-white-background-vector-illustration-121417824_webp.rf.714f248ede9d97a270cdb84460f496e6.jpg'\n",
      "\u001b[34m\u001b[1mtrain: \u001b[0mWARNING  C:\\Users\\Piyush Prajapati\\coding\\Rakshak\\Conda\\Assignments_2025\\Assignments_2025\\ML_Assignments\\Piyush\\Bullseye_detection\\images\\train\\shooting-target-icon-set-white-background-vector-shooting-target-icon-set-white-background-vector-illustration-121417824_webp.rf.7b83f7749272be85ba55e57a698d857d.jpg: ignoring corrupt image/label: [Errno 2] No such file or directory: 'C:\\\\Users\\\\Piyush Prajapati\\\\coding\\\\Rakshak\\\\Conda\\\\Assignments_2025\\\\Assignments_2025\\\\ML_Assignments\\\\Piyush\\\\Bullseye_detection\\\\images\\\\train\\\\shooting-target-icon-set-white-background-vector-shooting-target-icon-set-white-background-vector-illustration-121417824_webp.rf.7b83f7749272be85ba55e57a698d857d.jpg'\n",
      "\u001b[34m\u001b[1mtrain: \u001b[0mWARNING  C:\\Users\\Piyush Prajapati\\coding\\Rakshak\\Conda\\Assignments_2025\\Assignments_2025\\ML_Assignments\\Piyush\\Bullseye_detection\\images\\train\\simple-circle-target-template-bullseye-symbol-simple-circle-target-template-bullseye-symbol-127253320_webp.rf.5f34442d4d91bb4006883388360e78d8.jpg: ignoring corrupt image/label: [Errno 2] No such file or directory: 'C:\\\\Users\\\\Piyush Prajapati\\\\coding\\\\Rakshak\\\\Conda\\\\Assignments_2025\\\\Assignments_2025\\\\ML_Assignments\\\\Piyush\\\\Bullseye_detection\\\\images\\\\train\\\\simple-circle-target-template-bullseye-symbol-simple-circle-target-template-bullseye-symbol-127253320_webp.rf.5f34442d4d91bb4006883388360e78d8.jpg'\n",
      "\u001b[34m\u001b[1mtrain: \u001b[0mWARNING  C:\\Users\\Piyush Prajapati\\coding\\Rakshak\\Conda\\Assignments_2025\\Assignments_2025\\ML_Assignments\\Piyush\\Bullseye_detection\\images\\train\\simple-circle-target-template-bullseye-symbol-simple-circle-target-template-bullseye-symbol-127253320_webp.rf.8f0a28719de1c0b9ac5b0a36d202a6b4.jpg: ignoring corrupt image/label: [Errno 2] No such file or directory: 'C:\\\\Users\\\\Piyush Prajapati\\\\coding\\\\Rakshak\\\\Conda\\\\Assignments_2025\\\\Assignments_2025\\\\ML_Assignments\\\\Piyush\\\\Bullseye_detection\\\\images\\\\train\\\\simple-circle-target-template-bullseye-symbol-simple-circle-target-template-bullseye-symbol-127253320_webp.rf.8f0a28719de1c0b9ac5b0a36d202a6b4.jpg'\n",
      "\u001b[34m\u001b[1mtrain: \u001b[0mWARNING  C:\\Users\\Piyush Prajapati\\coding\\Rakshak\\Conda\\Assignments_2025\\Assignments_2025\\ML_Assignments\\Piyush\\Bullseye_detection\\images\\train\\simple-circle-target-template-bullseye-symbol-simple-circle-target-template-bullseye-symbol-127253320_webp.rf.9c9d8b741df8341ede35d9881d8cb98f.jpg: ignoring corrupt image/label: [Errno 2] No such file or directory: 'C:\\\\Users\\\\Piyush Prajapati\\\\coding\\\\Rakshak\\\\Conda\\\\Assignments_2025\\\\Assignments_2025\\\\ML_Assignments\\\\Piyush\\\\Bullseye_detection\\\\images\\\\train\\\\simple-circle-target-template-bullseye-symbol-simple-circle-target-template-bullseye-symbol-127253320_webp.rf.9c9d8b741df8341ede35d9881d8cb98f.jpg'\n"
     ]
    },
    {
     "name": "stderr",
     "output_type": "stream",
     "text": [
      "\n",
      "\u001b[34m\u001b[1mval: \u001b[0mScanning C:\\Users\\Piyush Prajapati\\coding\\Rakshak\\Conda\\Assignments_2025\\Assignments_2025\\ML_Assignments\\Piyush\\Bullseye_detection\\labels\\test.cache... 34 images, 0 backgrounds, 0 corrupt: 100%|██████████| 34/34 [00:00<?, ?it/s]\n"
     ]
    },
    {
     "name": "stdout",
     "output_type": "stream",
     "text": [
      "Plotting labels to runs\\detect\\train8\\labels.jpg... \n",
      "\u001b[34m\u001b[1moptimizer:\u001b[0m 'optimizer=auto' found, ignoring 'lr0=0.01' and 'momentum=0.937' and determining best 'optimizer', 'lr0' and 'momentum' automatically... \n",
      "\u001b[34m\u001b[1moptimizer:\u001b[0m AdamW(lr=0.002, momentum=0.9) with parameter groups 57 weight(decay=0.0), 64 weight(decay=0.0005), 63 bias(decay=0.0)\n",
      "\u001b[34m\u001b[1mTensorBoard: \u001b[0mmodel graph visualization added \n",
      "Image sizes 640 train, 640 val\n",
      "Using 0 dataloader workers\n",
      "Logging results to \u001b[1mruns\\detect\\train8\u001b[0m\n",
      "Starting training for 2 epochs...\n",
      "\n",
      "      Epoch    GPU_mem   box_loss   cls_loss   dfl_loss  Instances       Size\n"
     ]
    },
    {
     "name": "stderr",
     "output_type": "stream",
     "text": [
      "        1/2         0G      3.055      3.736      4.228         89        640: 100%|██████████| 8/8 [14:13<00:00, 106.66s/it]\n",
      "                 Class     Images  Instances      Box(P          R      mAP50  mAP50-95): 100%|██████████| 1/1 [00:09<00:00,  9.97s/it]"
     ]
    },
    {
     "name": "stdout",
     "output_type": "stream",
     "text": [
      "                   all         34         39    0.00245      0.641     0.0554     0.0116\n"
     ]
    },
    {
     "name": "stderr",
     "output_type": "stream",
     "text": [
      "\n"
     ]
    },
    {
     "name": "stdout",
     "output_type": "stream",
     "text": [
      "\n",
      "      Epoch    GPU_mem   box_loss   cls_loss   dfl_loss  Instances       Size\n"
     ]
    },
    {
     "name": "stderr",
     "output_type": "stream",
     "text": [
      "  0%|          | 0/8 [00:00<?, ?it/s]"
     ]
    }
   ],
   "source": [
    "from ultralytics import YOLO\n",
    "\n",
    "model = YOLO(\"runs\\\\detect\\\\train\\\\weights\\\\best.pt\")\n",
    "\n",
    "results=model.train(data=\"config.yaml\",epochs=2,batch=128)"
   ]
  }
 ],
 "metadata": {
  "kernelspec": {
   "display_name": "base",
   "language": "python",
   "name": "python3"
  },
  "language_info": {
   "codemirror_mode": {
    "name": "ipython",
    "version": 3
   },
   "file_extension": ".py",
   "mimetype": "text/x-python",
   "name": "python",
   "nbconvert_exporter": "python",
   "pygments_lexer": "ipython3",
   "version": "3.12.7"
  }
 },
 "nbformat": 4,
 "nbformat_minor": 5
}
